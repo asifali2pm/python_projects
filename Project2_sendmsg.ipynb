{
 "cells": [
  {
   "cell_type": "code",
   "execution_count": 1,
   "id": "7c8f813d",
   "metadata": {},
   "outputs": [],
   "source": [
    "#pip install pywhatkit    just install first this pywhatkit"
   ]
  },
  {
   "cell_type": "code",
   "execution_count": 2,
   "id": "4e81e6eb",
   "metadata": {},
   "outputs": [],
   "source": [
    "import pywhatkit as pyw"
   ]
  },
  {
   "cell_type": "code",
   "execution_count": 3,
   "id": "6b1d672d",
   "metadata": {},
   "outputs": [
    {
     "name": "stdout",
     "output_type": "stream",
     "text": [
      "In 19 Seconds WhatsApp will open and after 15 Seconds Message will be Delivered!\n"
     ]
    }
   ],
   "source": [
    "pyw.sendwhatmsg('+919278630655', 'Hi Mom, did you cook food? ',15,39)"
   ]
  },
  {
   "cell_type": "code",
   "execution_count": null,
   "id": "ca689cb6",
   "metadata": {},
   "outputs": [],
   "source": []
  }
 ],
 "metadata": {
  "kernelspec": {
   "display_name": "Python 3 (ipykernel)",
   "language": "python",
   "name": "python3"
  },
  "language_info": {
   "codemirror_mode": {
    "name": "ipython",
    "version": 3
   },
   "file_extension": ".py",
   "mimetype": "text/x-python",
   "name": "python",
   "nbconvert_exporter": "python",
   "pygments_lexer": "ipython3",
   "version": "3.11.1"
  }
 },
 "nbformat": 4,
 "nbformat_minor": 5
}
