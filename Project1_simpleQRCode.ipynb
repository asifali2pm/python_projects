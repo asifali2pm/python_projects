{
 "cells": [
  {
   "cell_type": "code",
   "execution_count": 15,
   "id": "14b7f7bd",
   "metadata": {},
   "outputs": [],
   "source": [
    "import qrcode as qr\n",
    "from PIL import Image"
   ]
  },
  {
   "cell_type": "code",
   "execution_count": 16,
   "id": "e9dfff21",
   "metadata": {},
   "outputs": [],
   "source": [
    "img = qr.make(\"https://www.linkedin.com/in/asifali2pm/\")\n",
    "img.save(\"AsifAli_Linkedin_qrcode.png\")"
   ]
  },
  {
   "cell_type": "code",
   "execution_count": 17,
   "id": "9748edc1",
   "metadata": {},
   "outputs": [
    {
     "data": {
      "text/html": [
       "<img src=\"AsifAli_Linkedin_qrcode.png\">\n"
      ],
      "text/plain": [
       "<IPython.core.display.HTML object>"
      ]
     },
     "metadata": {},
     "output_type": "display_data"
    }
   ],
   "source": [
    "%%html\n",
    "<img src=\"AsifAli_Linkedin_qrcode.png\">"
   ]
  },
  {
   "cell_type": "code",
   "execution_count": null,
   "id": "fa69c391",
   "metadata": {},
   "outputs": [],
   "source": []
  }
 ],
 "metadata": {
  "kernelspec": {
   "display_name": "Python 3 (ipykernel)",
   "language": "python",
   "name": "python3"
  },
  "language_info": {
   "codemirror_mode": {
    "name": "ipython",
    "version": 3
   },
   "file_extension": ".py",
   "mimetype": "text/x-python",
   "name": "python",
   "nbconvert_exporter": "python",
   "pygments_lexer": "ipython3",
   "version": "3.11.1"
  }
 },
 "nbformat": 4,
 "nbformat_minor": 5
}
