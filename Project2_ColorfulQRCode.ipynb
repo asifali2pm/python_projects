{
 "cells": [
  {
   "cell_type": "code",
   "execution_count": 1,
   "id": "1442707e",
   "metadata": {},
   "outputs": [],
   "source": [
    "import qrcode"
   ]
  },
  {
   "cell_type": "code",
   "execution_count": 3,
   "id": "52dd9ab8",
   "metadata": {},
   "outputs": [],
   "source": [
    "from PIL import Image"
   ]
  },
  {
   "cell_type": "code",
   "execution_count": 10,
   "id": "370f5bc8",
   "metadata": {},
   "outputs": [],
   "source": [
    "qr=qrcode.QRCode(version=1,\n",
    "                error_correction=qrcode.constants.ERROR_CORRECT_H,\n",
    "                box_size=10,border=4,)\n",
    "qr.add_data(\"https://www.linkedin.com/in/asifali2pm/\")\n",
    "qr.make(fit=True)\n",
    "img=qr.make_image(fill_color=\"black\",back_color=\"yellow\")\n",
    "img.save(\"AsifAli_Linkedin.png\")"
   ]
  },
  {
   "cell_type": "code",
   "execution_count": 11,
   "id": "b15ac6db",
   "metadata": {},
   "outputs": [
    {
     "data": {
      "text/html": [
       "<img src=\"AsifAli_Linkedin.png\">\n"
      ],
      "text/plain": [
       "<IPython.core.display.HTML object>"
      ]
     },
     "metadata": {},
     "output_type": "display_data"
    }
   ],
   "source": [
    "%%html\n",
    "<img src=\"AsifAli_Linkedin.png\">"
   ]
  },
  {
   "cell_type": "code",
   "execution_count": null,
   "id": "9c4534fd",
   "metadata": {},
   "outputs": [],
   "source": []
  }
 ],
 "metadata": {
  "kernelspec": {
   "display_name": "Python 3 (ipykernel)",
   "language": "python",
   "name": "python3"
  },
  "language_info": {
   "codemirror_mode": {
    "name": "ipython",
    "version": 3
   },
   "file_extension": ".py",
   "mimetype": "text/x-python",
   "name": "python",
   "nbconvert_exporter": "python",
   "pygments_lexer": "ipython3",
   "version": "3.11.1"
  }
 },
 "nbformat": 4,
 "nbformat_minor": 5
}
